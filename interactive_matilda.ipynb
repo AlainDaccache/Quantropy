{
 "cells": [
  {
   "cell_type": "code",
   "execution_count": 1,
   "outputs": [
    {
     "name": "stdout",
     "output_type": "stream",
     "text": [
      "hi\n"
     ]
    }
   ],
   "source": [],
   "metadata": {
    "collapsed": false,
    "pycharm": {
     "name": "#%%\n"
    }
   }
  },
  {
   "cell_type": "markdown",
   "source": [
    "# Financial Analysis\n",
    "* Vertical Analysis\n",
    "* Horizontal Analysis\n",
    "\n",
    "## Leverage Analysis\n",
    "\n",
    "## Profitability Analysis\n",
    "\n",
    "## Liquidity Analysis\n",
    "\n",
    "This assesses a company’s ability to meet short-term obligations\n",
    "\n",
    "$$Current\\;Ratio = \\frac{Current\\;Assets}{Current\\;Liabilities}$$\n",
    "\n",
    "$$Acid\\;Test\\;Ratio = \\frac{Current\\;Assets\\;-\\;Inventories}{Current\\;Liabilities}$$\n",
    "\n",
    "$$Cash\\;Ratio$$\n",
    "\n",
    "$$Net\\;Working\\;Capital$$\n",
    "\n",
    "## Efficiency Analysis\n",
    "\n",
    "## Pyramid Analysis\n",
    "\n",
    "### Dupont Analysis\n",
    "\n",
    "$$Return On Equity = \\frac{Net Income}{Shareholder Equity} = \\frac{Net Income}{Sales} * \\frac{Sales}{Shareholders' Equity} = \\frac{Net Income}{Sales}*\\frac{Sales}{Assets}*\\frac{Assets}{Shareholders' Equity}$$"
   ],
   "metadata": {
    "collapsed": false
   }
  },
  {
   "cell_type": "markdown",
   "source": [
    "The theory and subsequent application in this notebook serve as a synthesis of seminal publications in the area of quantitative finance.\n",
    "\n",
    "1900 – Louis Bachelier, Théorie de la spéculation<br>\n",
    "1938 – Frederick Macaulay, The Movements of Interest Rates. Bond Yields and Stock Prices in the United States since 1856, pp. 44–53, Bond duration<br>\n",
    "1944 – Kiyosi Itô, \"Stochastic Integral\", Proceedings of the Imperial Academy, 20(8), pp. 519–524<br>\n",
    "1952 – Harry Markowitz, Portfolio Selection, Modern portfolio theory<br>\n",
    "1956 – John Kelly, A New Interpretation of Information Rate<br>\n",
    "1958 – Franco Modigliani and Merton Miller, The Cost of Capital, Corporation Finance and the Theory of Investment, Modigliani–Miller theorem and Corporate finance<br>\n",
    "1964 – William F. Sharpe, Capital asset prices: A theory of market equilibrium under conditions of risk, Capital asset pricing model<br>\n",
    "1965 – John Lintner, The Valuation of Risk Assets and the Selection of Risky Investments in Stock Portfolios and Capital Budgets, Capital asset pricing model<br>\n",
    "1967 – Edward O. Thorp and Sheen Kassouf, Beat the Market<br>\n",
    "1972 – Eugene Fama and Merton Miller, Theory of Finance<br>\n",
    "1972 – Martin L. Leibowitz and Sydney Homer, Inside the Yield Book, Fixed income analysis<br>\n",
    "1973 – Fischer Black and Myron Scholes, The Pricing of Options and Corporate Liabilities and Robert C. Merton, Theory of Rational Option Pricing, Black–Scholes<br>\n",
    "1976 – Fischer Black, The pricing of commodity contracts, Black model<br>\n",
    "1977 – Phelim Boyle, Options: A Monte Carlo Approach, Monte Carlo methods for option pricing<br>\n",
    "1977 – Oldřich Vašíček, An equilibrium characterisation of the term structure, Vasicek model<br>\n",
    "1979 – John Carrington Cox; Stephen Ross; Mark Rubinstein, Option pricing: A simplified approach, Binomial options pricing model and Lattice model<br>\n",
    "1980 – Lawrence G. McMillan, Options as a Strategic Investment<br>\n",
    "1982 – Barr Rosenberg and Andrew Rudd, Factor-Related and Specific Returns of Common Stocks: Serial Correlation and Market Inefficiency, Journal of Finance, May 1982 V. 37: #2<br>\n",
    "1982 – Robert Engle Autoregressive Conditional Heteroskedasticity With Estimates of the Variance of U.K. Inflation, Seminal paper in ARCH family of models GARCH<br>\n",
    "1985 – John C. Cox, Jonathan E. Ingersoll and Stephen Ross, A theory of the term structure of interest rates, Cox–Ingersoll–Ross model<br>\n",
    "1987 – Giovanni Barone-Adesi and Robert Whaley (June 1987). \"Efficient analytic approximation of American option values\". Journal of Finance. 42 (2): 301–20. Barone-Adesi and Whaley method for pricing American options.<br>\n",
    "1987 – David Heath, Robert A. Jarrow, and Andrew Morton Bond pricing and the term structure of interest rates: a new methodology (1987), Heath–Jarrow–Morton framework for interest rates<br>\n",
    "1990 – Fischer Black, Emanuel Derman and William Toy, A One-Factor Model of Interest Rates and Its Application to Treasury Bond, Black-Derman-Toy model<br>\n",
    "1990 – John Hull and Alan White, \"Pricing interest-rate derivative securities\", The Review of Financial Studies, Vol 3, No. 4 (1990) Hull-White model<br>\n",
    "1991 – Ioannis Karatzas & Steven E. Shreve. Brownian motion and stochastic calculus.<br>\n",
    "1992 – Fischer Black and Robert Litterman: Global Portfolio Optimization, Financial Analysts Journal, September 1992, pp. 28–43 JSTOR 4479577 Black–Litterman model<br>\n",
    "1994 – J.P. Morgan RiskMetrics Group, RiskMetrics Technical Document, 1996, RiskMetrics model and framework<br>\n",
    "2002 – Patrick Hagan, Deep Kumar, Andrew Lesniewski, Diana Woodward, Managing Smile Risk, Wilmott Magazine, January 2002, SABR volatility model.<br>\n",
    "2004 – Emanuel Derman, My Life as a Quant: Reflections on Physics and Finance\n",
    "\n"
   ],
   "metadata": {
    "collapsed": false
   }
  }
 ],
 "metadata": {
  "kernelspec": {
   "display_name": "Python 3",
   "language": "python",
   "name": "python3"
  },
  "language_info": {
   "codemirror_mode": {
    "name": "ipython",
    "version": 2
   },
   "file_extension": ".py",
   "mimetype": "text/x-python",
   "name": "python",
   "nbconvert_exporter": "python",
   "pygments_lexer": "ipython2",
   "version": "2.7.6"
  }
 },
 "nbformat": 4,
 "nbformat_minor": 0
}